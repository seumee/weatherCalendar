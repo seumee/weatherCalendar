{
 "cells": [
  {
   "cell_type": "code",
   "execution_count": 1,
   "id": "2a3e9253",
   "metadata": {},
   "outputs": [
    {
     "name": "stdout",
     "output_type": "stream",
     "text": [
      "importing Jupyter notebook from Functions1.ipynb\n"
     ]
    }
   ],
   "source": [
    "import import_ipynb\n",
    "from Functions1 import *"
   ]
  },
  {
   "cell_type": "markdown",
   "id": "8f46966f",
   "metadata": {},
   "source": [
    "arg1 = sys.argv[1]\n",
    "arg2 = sys.argv[2]"
   ]
  },
  {
   "cell_type": "code",
   "execution_count": 2,
   "id": "3dd6f190",
   "metadata": {},
   "outputs": [],
   "source": [
    "arg1 = 'True'\n",
    "arg2 = 1"
   ]
  },
  {
   "cell_type": "code",
   "execution_count": 3,
   "id": "5309eecc",
   "metadata": {
    "scrolled": false
   },
   "outputs": [
    {
     "ename": "IndexError",
     "evalue": "tuple index out of range",
     "output_type": "error",
     "traceback": [
      "\u001b[0;31m---------------------------------------------------------------------------\u001b[0m",
      "\u001b[0;31mIndexError\u001b[0m                                Traceback (most recent call last)",
      "\u001b[0;32m/tmp/ipykernel_601907/1062848252.py\u001b[0m in \u001b[0;36m<module>\u001b[0;34m\u001b[0m\n\u001b[1;32m      7\u001b[0m \"\"\"\n\u001b[1;32m      8\u001b[0m \u001b[0;34m\u001b[0m\u001b[0m\n\u001b[0;32m----> 9\u001b[0;31m \u001b[0mweathers\u001b[0m \u001b[0;34m=\u001b[0m \u001b[0msetWeather\u001b[0m\u001b[0;34m(\u001b[0m\u001b[0marg1\u001b[0m\u001b[0;34m,\u001b[0m\u001b[0marg2\u001b[0m\u001b[0;34m)\u001b[0m\u001b[0;34m\u001b[0m\u001b[0;34m\u001b[0m\u001b[0m\n\u001b[0m\u001b[1;32m     10\u001b[0m \"\"\"\n\u001b[1;32m     11\u001b[0m \u001b[0mweatherDesc\u001b[0m \u001b[0;34m=\u001b[0m \u001b[0;34m[\u001b[0m\u001b[0;34m]\u001b[0m\u001b[0;34m\u001b[0m\u001b[0;34m\u001b[0m\u001b[0m\n",
      "\u001b[0;32m~/capstone_python/Functions1.ipynb\u001b[0m in \u001b[0;36msetWeather\u001b[0;34m(isGroup, num)\u001b[0m\n",
      "\u001b[0;31mIndexError\u001b[0m: tuple index out of range"
     ]
    }
   ],
   "source": [
    "###테스트 데이터###\n",
    "\"\"\"\n",
    "하남->용인\n",
    "개인 일정\n",
    "email = seumtree@test.com\n",
    "scheduleNum = 1\n",
    "\"\"\"\n",
    "\n",
    "weathers = setWeather(arg1,arg2)\n",
    "\"\"\"\n",
    "weatherDesc = []\n",
    "weatherId = []\n",
    "weatherIcon = []\n",
    "\n",
    "for w in weathers:\n",
    "    weatherDesc.append(w[0])\n",
    "    weatherId.append(w[1])\n",
    "    weatherIcon.append(w[2])\n",
    "\n",
    "#print(weatherId)\n",
    "\"\"\""
   ]
  },
  {
   "cell_type": "markdown",
   "id": "09a91b57",
   "metadata": {},
   "source": [
    "cannotGo = WeatherOX(weatherId, '2022-12-17')\n",
    "print(cannotGo)"
   ]
  },
  {
   "cell_type": "code",
   "execution_count": null,
   "id": "e95389a8",
   "metadata": {},
   "outputs": [],
   "source": []
  }
 ],
 "metadata": {
  "kernelspec": {
   "display_name": "Python 3 (ipykernel)",
   "language": "python",
   "name": "python3"
  },
  "language_info": {
   "codemirror_mode": {
    "name": "ipython",
    "version": 3
   },
   "file_extension": ".py",
   "mimetype": "text/x-python",
   "name": "python",
   "nbconvert_exporter": "python",
   "pygments_lexer": "ipython3",
   "version": "3.10.6"
  },
  "vscode": {
   "interpreter": {
    "hash": "ba6fb6bdc8af0e88a99fe29ecbfdeab05c7334dd8f33ca01d36fab7bb9f59163"
   }
  }
 },
 "nbformat": 4,
 "nbformat_minor": 5
}
