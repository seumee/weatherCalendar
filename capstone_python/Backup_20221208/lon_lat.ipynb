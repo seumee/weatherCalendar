{
 "cells": [
  {
   "cell_type": "code",
   "execution_count": 1,
   "id": "ec8b76cb",
   "metadata": {
    "scrolled": true
   },
   "outputs": [],
   "source": [
    "from Functions import *"
   ]
  },
  {
   "cell_type": "code",
   "execution_count": 2,
   "id": "2a3e9253",
   "metadata": {},
   "outputs": [],
   "source": [
    "tmp_s = '용인시 처인구 역북동 명지로60번길 8-3'\n",
    "tmp_d = '서울시 양천구 목동 목동서로 155'"
   ]
  },
  {
   "cell_type": "code",
   "execution_count": 3,
   "id": "b340ccf4",
   "metadata": {},
   "outputs": [],
   "source": [
    "lat_s, lon_s = geocoding(tmp_s)\n",
    "lat_d, lon_d = geocoding(tmp_d)"
   ]
  },
  {
   "cell_type": "code",
   "execution_count": null,
   "id": "b67ddd9b",
   "metadata": {},
   "outputs": [],
   "source": []
  },
  {
   "cell_type": "code",
   "execution_count": 4,
   "id": "b1ff9730",
   "metadata": {
    "scrolled": false
   },
   "outputs": [
    {
     "name": "stdout",
     "output_type": "stream",
     "text": [
      "[{'lat': 37.2311, 'lon': 127.1872, 'timezone': 'Asia/Seoul', 'timezone_offset': 32400, 'current': {'dt': 1670486188, 'sunrise': 1670452342, 'sunset': 1670487228, 'temp': 7.21, 'feels_like': 7.21, 'pressure': 1025, 'humidity': 36, 'dew_point': -6.09, 'uvi': 0, 'clouds': 40, 'visibility': 10000, 'wind_speed': 0.51, 'wind_deg': 260, 'weather': [{'id': 802, 'main': 'Clouds', 'description': '구름조금', 'icon': '03d'}]}, 'daily': [{'dt': 1670468400, 'sunrise': 1670452342, 'sunset': 1670487228, 'moonrise': 1670486640, 'moonset': 1670452320, 'moon_phase': 0.5, 'temp': {'day': 5.22, 'min': 0.29, 'max': 7.21, 'night': 2.14, 'eve': 6.61, 'morn': 0.48}, 'feels_like': {'day': 5.22, 'night': 2.14, 'eve': 6.61, 'morn': 0.48}, 'pressure': 1027, 'humidity': 29, 'dew_point': -11.51, 'wind_speed': 1.35, 'wind_deg': 305, 'wind_gust': 2.45, 'weather': [{'id': 801, 'main': 'Clouds', 'description': '약간의 구름이 낀 하늘', 'icon': '02d'}], 'clouds': 11, 'pop': 0, 'uvi': 1.85}, {'dt': 1670554800, 'sunrise': 1670538791, 'sunset': 1670573631, 'moonrise': 1670575800, 'moonset': 1670542260, 'moon_phase': 0.53, 'temp': {'day': 5.92, 'min': 1.27, 'max': 8.13, 'night': 3.22, 'eve': 5.37, 'morn': 2.06}, 'feels_like': {'day': 5.92, 'night': 3.22, 'eve': 5.37, 'morn': 2.06}, 'pressure': 1025, 'humidity': 52, 'dew_point': -3.16, 'wind_speed': 1.45, 'wind_deg': 242, 'wind_gust': 3.58, 'weather': [{'id': 804, 'main': 'Clouds', 'description': '온흐림', 'icon': '04d'}], 'clouds': 98, 'pop': 0, 'uvi': 1.62}, {'dt': 1670641200, 'sunrise': 1670625239, 'sunset': 1670660035, 'moonrise': 1670665260, 'moonset': 1670631960, 'moon_phase': 0.56, 'temp': {'day': 5.74, 'min': 0.99, 'max': 6.41, 'night': 0.99, 'eve': 4.27, 'morn': 1.46}, 'feels_like': {'day': 5.74, 'night': -3.02, 'eve': 1.3, 'morn': 1.46}, 'pressure': 1020, 'humidity': 46, 'dew_point': -4.96, 'wind_speed': 4.18, 'wind_deg': 327, 'wind_gust': 8.18, 'weather': [{'id': 804, 'main': 'Clouds', 'description': '온흐림', 'icon': '04d'}], 'clouds': 100, 'pop': 0, 'uvi': 1.69}, {'dt': 1670727600, 'sunrise': 1670711685, 'sunset': 1670746442, 'moonrise': 1670755080, 'moonset': 1670721180, 'moon_phase': 0.59, 'temp': {'day': 3.04, 'min': -0.96, 'max': 4.33, 'night': 1.39, 'eve': 2.59, 'morn': -0.91}, 'feels_like': {'day': 3.04, 'night': 1.39, 'eve': 2.59, 'morn': -0.91}, 'pressure': 1026, 'humidity': 39, 'dew_point': -9.59, 'wind_speed': 3.72, 'wind_deg': 307, 'wind_gust': 8.11, 'weather': [{'id': 800, 'main': 'Clear', 'description': '맑음', 'icon': '01d'}], 'clouds': 0, 'pop': 0, 'uvi': 1.7}, {'dt': 1670814000, 'sunrise': 1670798131, 'sunset': 1670832851, 'moonrise': 1670845020, 'moonset': 1670810040, 'moon_phase': 0.62, 'temp': {'day': 3.7, 'min': -0.2, 'max': 5.06, 'night': 3.75, 'eve': 4.02, 'morn': -0.13}, 'feels_like': {'day': 1.59, 'night': 1.11, 'eve': 1.25, 'morn': -0.13}, 'pressure': 1023, 'humidity': 44, 'dew_point': -7.5, 'wind_speed': 3.36, 'wind_deg': 236, 'wind_gust': 8.87, 'weather': [{'id': 500, 'main': 'Rain', 'description': '실 비', 'icon': '10d'}], 'clouds': 100, 'pop': 0.89, 'rain': 2.62, 'uvi': 1.67}, {'dt': 1670900400, 'sunrise': 1670884574, 'sunset': 1670919261, 'moonrise': 1670935020, 'moonset': 1670898540, 'moon_phase': 0.65, 'temp': {'day': 1.08, 'min': -0.38, 'max': 4.05, 'night': 1.38, 'eve': 1.01, 'morn': 0.08}, 'feels_like': {'day': -2.44, 'night': -2, 'eve': -1.28, 'morn': -4.1}, 'pressure': 1025, 'humidity': 43, 'dew_point': -10.28, 'wind_speed': 4.53, 'wind_deg': 268, 'wind_gust': 10.38, 'weather': [{'id': 600, 'main': 'Snow', 'description': '가벼운 눈', 'icon': '13d'}], 'clouds': 58, 'pop': 0.26, 'snow': 0.2, 'uvi': 2}, {'dt': 1670986800, 'sunrise': 1670971017, 'sunset': 1671005674, 'moonrise': 1671024960, 'moonset': 1670986680, 'moon_phase': 0.68, 'temp': {'day': -6.65, 'min': -8.15, 'max': 0.31, 'night': -6.47, 'eve': -6.26, 'morn': -7.74}, 'feels_like': {'day': -13.65, 'night': -11.17, 'eve': -11.93, 'morn': -14.74}, 'pressure': 1031, 'humidity': 35, 'dew_point': -19.81, 'wind_speed': 7.36, 'wind_deg': 317, 'wind_gust': 14.47, 'weather': [{'id': 600, 'main': 'Snow', 'description': '가벼운 눈', 'icon': '13d'}], 'clouds': 23, 'pop': 0.92, 'snow': 0.76, 'uvi': 2}, {'dt': 1671073200, 'sunrise': 1671057458, 'sunset': 1671092088, 'moonrise': 1671114960, 'moonset': 1671074640, 'moon_phase': 0.71, 'temp': {'day': -2.27, 'min': -7.08, 'max': -0.08, 'night': -0.31, 'eve': -0.86, 'morn': -7.08}, 'feels_like': {'day': -4.65, 'night': -0.31, 'eve': -0.86, 'morn': -10.17}, 'pressure': 1024, 'humidity': 51, 'dew_point': -11.08, 'wind_speed': 2.08, 'wind_deg': 187, 'wind_gust': 4.68, 'weather': [{'id': 802, 'main': 'Clouds', 'description': '구름조금', 'icon': '03d'}], 'clouds': 46, 'pop': 0.09, 'uvi': 2}]}]\n"
     ]
    },
    {
     "ename": "TypeError",
     "evalue": "list indices must be integers or slices, not str",
     "output_type": "error",
     "traceback": [
      "\u001b[0;31m---------------------------------------------------------------------------\u001b[0m",
      "\u001b[0;31mTypeError\u001b[0m                                 Traceback (most recent call last)",
      "\u001b[0;32m/tmp/ipykernel_459492/1900255890.py\u001b[0m in \u001b[0;36m<module>\u001b[0;34m\u001b[0m\n\u001b[1;32m      4\u001b[0m \u001b[0mcord\u001b[0m\u001b[0;34m.\u001b[0m\u001b[0mappend\u001b[0m\u001b[0;34m(\u001b[0m\u001b[0mwalkRegs\u001b[0m\u001b[0;34m[\u001b[0m\u001b[0;36m0\u001b[0m\u001b[0;34m]\u001b[0m\u001b[0;34m)\u001b[0m\u001b[0;34m\u001b[0m\u001b[0;34m\u001b[0m\u001b[0m\n\u001b[1;32m      5\u001b[0m \u001b[0;34m\u001b[0m\u001b[0m\n\u001b[0;32m----> 6\u001b[0;31m \u001b[0mprint\u001b[0m\u001b[0;34m(\u001b[0m\u001b[0mgetWeather\u001b[0m\u001b[0;34m(\u001b[0m\u001b[0mcord\u001b[0m\u001b[0;34m)\u001b[0m\u001b[0;34m)\u001b[0m\u001b[0;34m\u001b[0m\u001b[0;34m\u001b[0m\u001b[0m\n\u001b[0m",
      "\u001b[0;32m~/capstone_python/Functions.py\u001b[0m in \u001b[0;36mgetWeather\u001b[0;34m(cord_list)\u001b[0m\n\u001b[1;32m     76\u001b[0m     \u001b[0mdesc\u001b[0m \u001b[0;34m=\u001b[0m \u001b[0;34m[\u001b[0m\u001b[0;34m]\u001b[0m\u001b[0;34m\u001b[0m\u001b[0;34m\u001b[0m\u001b[0m\n\u001b[1;32m     77\u001b[0m     \u001b[0mprint\u001b[0m\u001b[0;34m(\u001b[0m\u001b[0mweather\u001b[0m\u001b[0;34m)\u001b[0m\u001b[0;34m\u001b[0m\u001b[0;34m\u001b[0m\u001b[0m\n\u001b[0;32m---> 78\u001b[0;31m     \u001b[0mdesc\u001b[0m\u001b[0;34m.\u001b[0m\u001b[0mappend\u001b[0m\u001b[0;34m(\u001b[0m\u001b[0mweather\u001b[0m\u001b[0;34m[\u001b[0m\u001b[0;34m'current'\u001b[0m\u001b[0;34m]\u001b[0m\u001b[0;34m[\u001b[0m\u001b[0;34m'weather'\u001b[0m\u001b[0;34m]\u001b[0m\u001b[0;34m[\u001b[0m\u001b[0;34m'description'\u001b[0m\u001b[0;34m]\u001b[0m\u001b[0;34m)\u001b[0m\u001b[0;34m\u001b[0m\u001b[0;34m\u001b[0m\u001b[0m\n\u001b[0m\u001b[1;32m     79\u001b[0m     \u001b[0;32mfor\u001b[0m \u001b[0mp\u001b[0m \u001b[0;32min\u001b[0m \u001b[0mrange\u001b[0m\u001b[0;34m(\u001b[0m\u001b[0mlen\u001b[0m\u001b[0;34m(\u001b[0m\u001b[0mweather\u001b[0m\u001b[0;34m)\u001b[0m\u001b[0;34m)\u001b[0m\u001b[0;34m:\u001b[0m\u001b[0;34m\u001b[0m\u001b[0;34m\u001b[0m\u001b[0m\n\u001b[1;32m     80\u001b[0m         \u001b[0;32mfor\u001b[0m \u001b[0mq\u001b[0m \u001b[0;32min\u001b[0m \u001b[0mrange\u001b[0m\u001b[0;34m(\u001b[0m\u001b[0;36m8\u001b[0m\u001b[0;34m)\u001b[0m\u001b[0;34m:\u001b[0m\u001b[0;34m\u001b[0m\u001b[0;34m\u001b[0m\u001b[0m\n",
      "\u001b[0;31mTypeError\u001b[0m: list indices must be integers or slices, not str"
     ]
    }
   ],
   "source": [
    "walkRegs = findaway(lat_s, lon_s, lat_d, lon_d)\n",
    "\n",
    "cord = []\n",
    "cord.append(walkRegs[0])\n",
    "\n",
    "print(getWeather(cord))\n"
   ]
  },
  {
   "cell_type": "code",
   "execution_count": null,
   "id": "5309eecc",
   "metadata": {},
   "outputs": [],
   "source": [
    "print(setWeather(False,'1'))"
   ]
  },
  {
   "cell_type": "code",
   "execution_count": null,
   "id": "62dd47b5",
   "metadata": {},
   "outputs": [],
   "source": []
  }
 ],
 "metadata": {
  "kernelspec": {
   "display_name": "Python 3 (ipykernel)",
   "language": "python",
   "name": "python3"
  },
  "language_info": {
   "codemirror_mode": {
    "name": "ipython",
    "version": 3
   },
   "file_extension": ".py",
   "mimetype": "text/x-python",
   "name": "python",
   "nbconvert_exporter": "python",
   "pygments_lexer": "ipython3",
   "version": "3.10.6"
  },
  "vscode": {
   "interpreter": {
    "hash": "ba6fb6bdc8af0e88a99fe29ecbfdeab05c7334dd8f33ca01d36fab7bb9f59163"
   }
  }
 },
 "nbformat": 4,
 "nbformat_minor": 5
}
