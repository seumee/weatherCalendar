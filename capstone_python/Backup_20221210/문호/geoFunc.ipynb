{
 "cells": [
  {
   "cell_type": "code",
   "execution_count": null,
   "id": "44653dcb",
   "metadata": {},
   "outputs": [],
   "source": [
    "from Functions_2 import *\n",
    "\n",
    "def convertGeo(tType, IDorNum):\n",
    "    if tType == 'client':\n",
    "        stringAddress = executeSql(f'select address from client where email = \\'{IDorNum}\\'')\n",
    "        stringAddress = stringAddress[0]['address']\n",
    "        \n",
    "        lat, lon = geocoding(stringAddress)\n",
    "        \n",
    "        updateResult = executeSql(f'UPDATE client SET lat = {lat}, lon = {lon} where email = \\'{IDorNum}\\'')\n",
    "        print(f\"set lat, lon of ID {IDorNum} as [{lat}, {lon}]\")\n",
    "    elif tType == 'schedule':\n",
    "        stringAddress = executeSql('select address from schedule where num = ' + str(IDorNum))\n",
    "        stringAddress = stringAddress[0]['address']\n",
    "        \n",
    "        lat, lon = geocoding(stringAddress)\n",
    "        \n",
    "        updateResult = executeSql(f'UPDATE schedule SET lat = {lat}, lon = {lon} WHERE num = '+str(IDorNum))\n",
    "        print(f\"set lat, lon of schedule {IDorNum} as [{lat}, {lon}]\")"
   ]
  }
 ],
 "metadata": {
  "kernelspec": {
   "display_name": "Python 3 (ipykernel)",
   "language": "python",
   "name": "python3"
  },
  "language_info": {
   "codemirror_mode": {
    "name": "ipython",
    "version": 3
   },
   "file_extension": ".py",
   "mimetype": "text/x-python",
   "name": "python",
   "nbconvert_exporter": "python",
   "pygments_lexer": "ipython3",
   "version": "3.10.6"
  }
 },
 "nbformat": 4,
 "nbformat_minor": 5
}
