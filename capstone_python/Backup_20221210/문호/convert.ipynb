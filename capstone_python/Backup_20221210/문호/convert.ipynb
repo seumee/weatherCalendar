{
 "cells": [
  {
   "cell_type": "code",
   "execution_count": 5,
   "id": "42302fe1",
   "metadata": {},
   "outputs": [],
   "source": [
    "import import_ipynb"
   ]
  },
  {
   "cell_type": "markdown",
   "id": "2739b194",
   "metadata": {},
   "source": [
    "arg1 = sys.argv[1]\n",
    "arg2 = int(sys.argv[2]"
   ]
  },
  {
   "cell_type": "code",
   "execution_count": 6,
   "id": "812732e4",
   "metadata": {},
   "outputs": [],
   "source": [
    "arg1 = 'client'\n",
    "arg2 = 'bae@test.com'"
   ]
  },
  {
   "cell_type": "code",
   "execution_count": 7,
   "id": "b8e2e7db",
   "metadata": {},
   "outputs": [
    {
     "name": "stdout",
     "output_type": "stream",
     "text": [
      "select address from client where email = 'bae@test.com'\n",
      "set lat, lon of ID bae@test.com as [37.5384905, 126.8835659]\n"
     ]
    }
   ],
   "source": [
    "from geoFunc import *\n",
    "\n",
    "convertGeo(arg1, arg2)"
   ]
  },
  {
   "cell_type": "code",
   "execution_count": null,
   "id": "2ee557b5",
   "metadata": {},
   "outputs": [],
   "source": []
  }
 ],
 "metadata": {
  "kernelspec": {
   "display_name": "Python 3 (ipykernel)",
   "language": "python",
   "name": "python3"
  },
  "language_info": {
   "codemirror_mode": {
    "name": "ipython",
    "version": 3
   },
   "file_extension": ".py",
   "mimetype": "text/x-python",
   "name": "python",
   "nbconvert_exporter": "python",
   "pygments_lexer": "ipython3",
   "version": "3.10.6"
  }
 },
 "nbformat": 4,
 "nbformat_minor": 5
}
