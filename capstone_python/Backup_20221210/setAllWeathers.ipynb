{
 "cells": [
  {
   "cell_type": "code",
   "execution_count": 1,
   "id": "5962b559",
   "metadata": {},
   "outputs": [],
   "source": [
    "import import_ipynb\n",
    "from Functions import *"
   ]
  },
  {
   "cell_type": "code",
   "execution_count": 2,
   "id": "ea22caf0",
   "metadata": {},
   "outputs": [],
   "source": [
    "allSchedules = executeSql(\"select * from schedule\")"
   ]
  },
  {
   "cell_type": "code",
   "execution_count": 3,
   "id": "ed674b74",
   "metadata": {},
   "outputs": [
    {
     "name": "stdout",
     "output_type": "stream",
     "text": [
      "------------------------------------------------------------\n",
      "num: 1\n",
      "address: 2022-12-14 09:00:00\n",
      "email: None\n",
      "groupid: testGroup\n",
      "lat: 37.5723\n",
      "lon: 126.976\n",
      "schedule_name: 테스트\n",
      "weather: T\n",
      "weather_desc: 눈\n",
      "weather_icon: 13d\n",
      "------------------------------------------------------------\n",
      "bae@test.com\n",
      "seumtree@naver.com\n",
      "------------------------------------------------------------\n",
      "num: 2\n",
      "address: 2022-12-14 09:00:00\n",
      "email: seumtree@test.com\n",
      "groupid: None\n",
      "lat: 37.2302\n",
      "lon: 127.187\n",
      "schedule_name: 테스트\n",
      "weather: T\n",
      "weather_desc: 눈\n",
      "weather_icon: 13d\n",
      "------------------------------------------------------------\n",
      "------------------------------------------------------------\n",
      "num: 3\n",
      "address: 2022-12-15 09:00:00\n",
      "email: seumtree@test.com\n",
      "groupid: None\n",
      "lat: 37.2302\n",
      "lon: 127.187\n",
      "schedule_name: 테스트\n",
      "weather: T\n",
      "weather_desc: None\n",
      "weather_icon: 13d\n",
      "------------------------------------------------------------\n"
     ]
    }
   ],
   "source": [
    "for schedule in allSchedules:\n",
    "    print(\"------------------------------------------------------------\")\n",
    "    print(f\"num: {schedule['num']}\")\n",
    "    print(f\"address: {schedule['appointment']}\")\n",
    "    print(f\"email: {schedule['email']}\")\n",
    "    print(f\"groupid: {schedule['groupid']}\")\n",
    "    print(f\"lat: {schedule['lat']}\")\n",
    "    print(f\"lon: {schedule['lon']}\")\n",
    "    print(f\"schedule_name: {schedule['schedule_name']}\")\n",
    "    print(f\"weather: {schedule['weather']}\")\n",
    "    print(f\"weather_desc: {schedule['weather_desc']}\")\n",
    "    print(f\"weather_icon: {schedule['weather_icon']}\")\n",
    "    print(\"------------------------------------------------------------\")\n",
    "    if schedule['email'] == None:\n",
    "        #그룹 일정으로 처리\n",
    "        arg1 = 'True'\n",
    "    else:\n",
    "        #개인 일정으로 처리\n",
    "        arg1 = 'False'\n",
    "    arg2 = schedule['num']\n",
    "    weathers = setWeather(arg1,arg2)"
   ]
  },
  {
   "cell_type": "code",
   "execution_count": null,
   "id": "e440f745",
   "metadata": {},
   "outputs": [],
   "source": []
  }
 ],
 "metadata": {
  "kernelspec": {
   "display_name": "Python 3 (ipykernel)",
   "language": "python",
   "name": "python3"
  },
  "language_info": {
   "codemirror_mode": {
    "name": "ipython",
    "version": 3
   },
   "file_extension": ".py",
   "mimetype": "text/x-python",
   "name": "python",
   "nbconvert_exporter": "python",
   "pygments_lexer": "ipython3",
   "version": "3.10.6"
  }
 },
 "nbformat": 4,
 "nbformat_minor": 5
}
