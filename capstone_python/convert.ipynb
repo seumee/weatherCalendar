{
 "cells": [
  {
   "cell_type": "code",
   "execution_count": 2,
   "id": "b8e2e7db",
   "metadata": {},
   "outputs": [],
   "source": [
    "import import_ipynb\n",
    "from geoFunc1 import *\n",
    "arg1 = sys.argv[1]\n",
    "arg2 = sys.argv[2]\n",
    "\n",
    "convertGeo(arg1, arg2)"
   ]
  },
  {
   "cell_type": "code",
   "execution_count": null,
   "id": "5fbaf216",
   "metadata": {},
   "outputs": [],
   "source": []
  }
 ],
 "metadata": {
  "kernelspec": {
   "display_name": "Python 3 (ipykernel)",
   "language": "python",
   "name": "python3"
  },
  "language_info": {
   "codemirror_mode": {
    "name": "ipython",
    "version": 3
   },
   "file_extension": ".py",
   "mimetype": "text/x-python",
   "name": "python",
   "nbconvert_exporter": "python",
   "pygments_lexer": "ipython3",
   "version": "3.10.6"
  }
 },
 "nbformat": 4,
 "nbformat_minor": 5
}
