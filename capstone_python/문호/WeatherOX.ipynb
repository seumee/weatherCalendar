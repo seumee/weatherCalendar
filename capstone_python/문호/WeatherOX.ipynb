{
 "cells": [
  {
   "cell_type": "code",
   "execution_count": null,
   "id": "9c8e66b1",
   "metadata": {},
   "outputs": [],
   "source": [
    "#Argument WeatherCode로 받을지 문자열로 받을지는 고려해볼것,,,,\n",
    "#일단은 숫자 코드 기준\n",
    "\n",
    "badWeathers = [201, 202, 232, 301, 302, 310, 314, 501, 502, 503, 504, 521, \n",
    "               522, 531, 601, 602, 616, 711, 731, 751, 761, 762, 771, 781, \n",
    "               900, 901, 902, 956, 957, 958, 959, 960, 961, 962]\n",
    "#badWeathers = ['태풍']\n",
    "#badWeathers = ['비를 동반한 천둥구름', '폭우를 동반한 천둥구름']\n",
    "\n",
    "def WeatherOX(weathers, targetDate):\n",
    "    for w in weathers:\n",
    "        if w[targetDate] in badWeathers:\n",
    "            return True\n",
    "    return False"
   ]
  }
 ],
 "metadata": {
  "kernelspec": {
   "display_name": "Python 3 (ipykernel)",
   "language": "python",
   "name": "python3"
  },
  "language_info": {
   "codemirror_mode": {
    "name": "ipython",
    "version": 3
   },
   "file_extension": ".py",
   "mimetype": "text/x-python",
   "name": "python",
   "nbconvert_exporter": "python",
   "pygments_lexer": "ipython3",
   "version": "3.10.6"
  }
 },
 "nbformat": 4,
 "nbformat_minor": 5
}
